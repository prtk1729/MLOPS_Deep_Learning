{
 "cells": [
  {
   "cell_type": "markdown",
   "metadata": {},
   "source": [
    "### Create DataIngestionWrappers\n",
    "- Entity (just a user-defined return type)\n",
    "    - has a `dataclass decorator`\n",
    "\n"
   ]
  },
  {
   "cell_type": "code",
   "execution_count": 1,
   "metadata": {},
   "outputs": [
    {
     "data": {
      "text/plain": [
       "'/home/prateek/ThinkAuto/MLOPS/ChestDiseaseClassification/MLOPS_Deep_Learning/research'"
      ]
     },
     "execution_count": 1,
     "metadata": {},
     "output_type": "execute_result"
    }
   ],
   "source": [
    "import os\n",
    "%pwd"
   ]
  },
  {
   "cell_type": "code",
   "execution_count": 2,
   "metadata": {},
   "outputs": [],
   "source": [
    "os.chdir(\"../\")"
   ]
  },
  {
   "cell_type": "code",
   "execution_count": 3,
   "metadata": {},
   "outputs": [
    {
     "data": {
      "text/plain": [
       "'/home/prateek/ThinkAuto/MLOPS/ChestDiseaseClassification/MLOPS_Deep_Learning'"
      ]
     },
     "execution_count": 3,
     "metadata": {},
     "output_type": "execute_result"
    }
   ],
   "source": [
    "%pwd"
   ]
  },
  {
   "cell_type": "markdown",
   "metadata": {},
   "source": [
    "### Create data ingestion entity\n",
    "- WIll finally go inside `src/vggClassifier/entity/config_entity.py`"
   ]
  },
  {
   "cell_type": "code",
   "execution_count": 4,
   "metadata": {},
   "outputs": [],
   "source": [
    "from pathlib import Path\n",
    "from dataclasses import dataclass # \n",
    "\n",
    "# dataclass is used to store data\n",
    "# Type safety -> mention the datatypes\n",
    "# frozen=True -> immutabilty throughout program's execution\n",
    "@dataclass(frozen=True)\n",
    "class DataIngestionConfig: # wraps the dict of config.yaml\n",
    "    root_dir: Path\n",
    "    source_url: str\n",
    "    unzip_dir: Path\n",
    "    local_data_file: Path\n",
    "\n",
    "\n",
    "\n",
    "# config = DataIngestionConfig(\n",
    "#     root_dir=Path('/path/to/root'),\n",
    "#     source_url='http://example.com/data.zip',\n",
    "#     unzip_dir=Path('/path/to/unzip'),\n",
    "#     local_data_file=Path('/path/to/local/file.zip')\n",
    "# )\n",
    "\n",
    "# # Accessing the attributes\n",
    "# print(config.root_dir)  # Output: /path/to/root\n",
    "# print(config.source_url)  # Output: http://example.com/data.zip"
   ]
  },
  {
   "cell_type": "code",
   "execution_count": 5,
   "metadata": {},
   "outputs": [],
   "source": [
    "from vggClassifier.constants import *\n",
    "from vggClassifier.utils.common import read_yaml, create_directories\n",
    "from vggClassifier import *\n"
   ]
  },
  {
   "cell_type": "code",
   "execution_count": 6,
   "metadata": {},
   "outputs": [],
   "source": [
    "# dataclass is used to store data\n",
    "# Type safety -> mention the datatypes\n",
    "# frozen=True -> immutabilty throughout program's execution\n",
    "@dataclass(frozen=True)\n",
    "class DataIngestionConfig: # wraps the dict of config.yaml\n",
    "    root_dir: Path\n",
    "    source_url: str\n",
    "    unzip_dir: Path\n",
    "    local_data_file: Path\n",
    "\n",
    "\n",
    "\n",
    "class DataIngestionManager:\n",
    "    '''\n",
    "        - Creates the required folders using config.yaml\n",
    "        - Sets the data_ingestion properties as a dict\n",
    "        - Finally wraps the dict as an entity (here DataIngestionConfig)\n",
    "    '''\n",
    "    def __init__(self, \\\n",
    "                 CONFIG_FILE_PATH,\n",
    "                 PARAMS_FILE_PATH):\n",
    "        self.params_filepath = PARAMS_FILE_PATH\n",
    "        self.config_filepath = CONFIG_FILE_PATH\n",
    "\n",
    "        # load these yaml\n",
    "        self.config_dict = read_yaml(filepath=self.config_filepath)\n",
    "        self.params_dict = read_yaml(filepath=self.params_filepath)\n",
    "\n",
    "        # create artifacts_root directory \n",
    "        create_directories([self.config_dict.artifacts_root]) # BoxConfig type\n",
    "\n",
    "\n",
    "    def get_data_ingestion_as_entity(self)->DataIngestionConfig:\n",
    "        \"\"\"\n",
    "            Creates data_ingestion folder\n",
    "            Sets the key-value of data_ingestion in config.yaml\n",
    "            Returns as a DataIngestionConfig type\n",
    "        \"\"\"\n",
    "        config = self.config_dict.data_ingestion\n",
    "\n",
    "        # create root directory\n",
    "        create_directories([config.root_dir])\n",
    "\n",
    "        data_ingest_obj = DataIngestionConfig( root_dir=config.root_dir,\\\n",
    "                             source_url=config.source_url,\n",
    "                             unzip_dir=config.unzip_dir,\n",
    "                             local_data_file=config.local_data_file\n",
    "                              )\n",
    "        return data_ingest_obj\n"
   ]
  },
  {
   "cell_type": "code",
   "execution_count": 7,
   "metadata": {},
   "outputs": [],
   "source": [
    "import gdown\n",
    "\n",
    "class DataIngestion:\n",
    "    '''\n",
    "        - Downloads data from gdrive\n",
    "        - Then unzips the zip file\n",
    "    '''\n",
    "    def __init__(self, config: DataIngestionConfig):\n",
    "        self.config = config # this is the config.data_ingestion\n",
    "\n",
    "    def download_data(self):\n",
    "        try: \n",
    "            url = self.config.source_url\n",
    "            file_id = url.split(\"/\")[-2]\n",
    "            prefix = \"https://drive.google.com/uc?/export=download&id=\"\n",
    "            zip_filename = self.config.local_data_file\n",
    "            gdown.download(prefix + file_id, zip_filename)\n",
    "            logger.info(f\"Downloading complete and renamed as: {zip_filename}\")\n",
    "        except Exception as e:\n",
    "            raise e\n",
    "\n",
    "    def unzip_data(self):\n",
    "        '''\n",
    "            - Make the unzip_dir\n",
    "            - unzip inside this dir\n",
    "        '''\n",
    "        # create dir to put the files after unzip\n",
    "        unzip_dir = self.config.unzip_dir\n",
    "        create_directories([unzip_dir])\n",
    "\n",
    "        # unzip the files\n",
    "        import zipfile\n",
    "        zip_filename = self.config.local_data_file\n",
    "        with zipfile.ZipFile(zip_filename, \"r\") as f:\n",
    "            f.extractall(unzip_dir)\n",
    "            logger.info(f\"Zipped file: {zip_filename} is unzipped at: {unzip_dir}\")\n"
   ]
  },
  {
   "cell_type": "markdown",
   "metadata": {},
   "source": [
    "### Pipeline"
   ]
  },
  {
   "cell_type": "code",
   "execution_count": 9,
   "metadata": {},
   "outputs": [
    {
     "name": "stdout",
     "output_type": "stream",
     "text": [
      "[2024-07-24 13:23:57,968: INFO: common: yaml file config/config.yaml is loaded successfully]\n",
      "[2024-07-24 13:23:57,974: INFO: common: yaml file params.yaml is loaded successfully]\n",
      "[2024-07-24 13:23:57,975: INFO: common: created directory at: artifacts]\n",
      "{'key': 'value'}\n",
      "[2024-07-24 13:23:57,978: INFO: common: created directory at: artifacts/data_ingestion/]\n"
     ]
    },
    {
     "name": "stderr",
     "output_type": "stream",
     "text": [
      "Downloading...\n",
      "From (original): https://drive.google.com/uc?/export=download&id=101_DIOzF9sP9T7HJHh5Z8V2eDHgPrtTo\n",
      "From (redirected): https://drive.google.com/uc?%2Fexport=download&id=101_DIOzF9sP9T7HJHh5Z8V2eDHgPrtTo&confirm=t&uuid=b9fd6df6-9a92-4773-bf83-7d6d191b428e\n",
      "To: /home/prateek/ThinkAuto/MLOPS/ChestDiseaseClassification/MLOPS_Deep_Learning/artifacts/data_ingestion/data.zip\n",
      "100%|██████████| 49.0M/49.0M [00:08<00:00, 5.89MB/s]"
     ]
    },
    {
     "name": "stdout",
     "output_type": "stream",
     "text": [
      "[2024-07-24 13:24:10,996: INFO: 475719230: Downloading complete and renamed as: artifacts/data_ingestion/data.zip]\n",
      "[2024-07-24 13:24:10,998: INFO: common: created directory at: artifacts/data_ingestion]\n"
     ]
    },
    {
     "name": "stderr",
     "output_type": "stream",
     "text": [
      "\n"
     ]
    },
    {
     "name": "stdout",
     "output_type": "stream",
     "text": [
      "[2024-07-24 13:24:11,359: INFO: 475719230: Zipped file: artifacts/data_ingestion/data.zip is unzipped at: artifacts/data_ingestion]\n"
     ]
    }
   ],
   "source": [
    "dim = DataIngestionManager( CONFIG_FILE_PATH, PARAMS_FILE_PATH )\n",
    "print( dim.params_dict ) # {'key': 'value'} dummy yaml have to have something else error\n",
    "config = dim.get_data_ingestion_as_entity()\n",
    "\n",
    "data_ingestion_object = DataIngestion(config)\n",
    "data_ingestion_object.download_data()\n",
    "data_ingestion_object.unzip_data()\n"
   ]
  },
  {
   "cell_type": "code",
   "execution_count": null,
   "metadata": {},
   "outputs": [],
   "source": []
  },
  {
   "cell_type": "code",
   "execution_count": null,
   "metadata": {},
   "outputs": [],
   "source": []
  },
  {
   "cell_type": "code",
   "execution_count": null,
   "metadata": {},
   "outputs": [],
   "source": []
  },
  {
   "cell_type": "code",
   "execution_count": null,
   "metadata": {},
   "outputs": [],
   "source": []
  },
  {
   "cell_type": "code",
   "execution_count": null,
   "metadata": {},
   "outputs": [],
   "source": []
  },
  {
   "cell_type": "code",
   "execution_count": null,
   "metadata": {},
   "outputs": [],
   "source": []
  },
  {
   "cell_type": "code",
   "execution_count": null,
   "metadata": {},
   "outputs": [],
   "source": []
  },
  {
   "cell_type": "code",
   "execution_count": null,
   "metadata": {},
   "outputs": [],
   "source": []
  },
  {
   "cell_type": "code",
   "execution_count": null,
   "metadata": {},
   "outputs": [],
   "source": []
  },
  {
   "cell_type": "code",
   "execution_count": null,
   "metadata": {},
   "outputs": [],
   "source": []
  },
  {
   "cell_type": "code",
   "execution_count": null,
   "metadata": {},
   "outputs": [],
   "source": []
  },
  {
   "cell_type": "code",
   "execution_count": null,
   "metadata": {},
   "outputs": [],
   "source": []
  },
  {
   "cell_type": "code",
   "execution_count": null,
   "metadata": {},
   "outputs": [],
   "source": []
  },
  {
   "cell_type": "code",
   "execution_count": null,
   "metadata": {},
   "outputs": [],
   "source": []
  },
  {
   "cell_type": "code",
   "execution_count": null,
   "metadata": {},
   "outputs": [],
   "source": []
  },
  {
   "cell_type": "code",
   "execution_count": null,
   "metadata": {},
   "outputs": [],
   "source": []
  },
  {
   "cell_type": "code",
   "execution_count": null,
   "metadata": {},
   "outputs": [],
   "source": []
  },
  {
   "cell_type": "code",
   "execution_count": null,
   "metadata": {},
   "outputs": [],
   "source": []
  },
  {
   "cell_type": "code",
   "execution_count": null,
   "metadata": {},
   "outputs": [],
   "source": []
  },
  {
   "cell_type": "code",
   "execution_count": null,
   "metadata": {},
   "outputs": [],
   "source": []
  }
 ],
 "metadata": {
  "kernelspec": {
   "display_name": "chest",
   "language": "python",
   "name": "python3"
  },
  "language_info": {
   "codemirror_mode": {
    "name": "ipython",
    "version": 3
   },
   "file_extension": ".py",
   "mimetype": "text/x-python",
   "name": "python",
   "nbconvert_exporter": "python",
   "pygments_lexer": "ipython3",
   "version": "3.10.14"
  }
 },
 "nbformat": 4,
 "nbformat_minor": 2
}
